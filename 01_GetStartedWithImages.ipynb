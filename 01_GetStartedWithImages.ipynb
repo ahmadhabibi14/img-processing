{
 "cells": [
  {
   "cell_type": "code",
   "execution_count": null,
   "metadata": {},
   "outputs": [],
   "source": [
    "import os\n",
    "import cv2\n",
    "import numpy as np\n",
    "import matplotlib.pyplot as plt\n",
    "\n",
    "from zipfile import ZipFile\n",
    "from urllib.request import urlretrieve\n",
    "\n",
    "from IPython.display import Image\n",
    "\n",
    "%matplotlib inline\n",
    "\n",
    "def download_and_unzip(url, save_path):\n",
    "  print(f\"Downloading and extracting assests....\", end=\"\")\n",
    "\n",
    "  # Downloading zip file using urllib package.\n",
    "  urlretrieve(url, save_path)\n",
    "\n",
    "  try:\n",
    "    # Extracting zip file using the zipfile package.\n",
    "    with ZipFile(save_path) as z:\n",
    "      # Extract ZIP file contents in the same directory.\n",
    "      z.extractall(os.path.split(save_path)[0])\n",
    "\n",
    "    print(\"Done\")\n",
    "\n",
    "  except Exception as e:\n",
    "    print(\"\\nInvalid file.\", e)\n",
    "\n",
    "URL = r\"https://www.dropbox.com/s/qhhlqcica1nvtaw/opencv_bootcamp_assets_NB1.zip?dl=1\"\n",
    "\n",
    "asset_zip_path = os.path.join(os.getcwd(), f\"opencv_bootcamp_assets_NB1.zip\")\n",
    "\n",
    "# Download if assest ZIP does not exists. \n",
    "if not os.path.exists(asset_zip_path):\n",
    "  download_and_unzip(URL, asset_zip_path)\n",
    "\n",
    "# Display 18x18 pixel image.\n",
    "Image(filename=\"checkerboard_18x18.png\")\n",
    "\n",
    "# Display 84x84 pixel image.\n",
    "Image(filename=\"checkerboard_84x84.jpg\")"
   ]
  },
  {
   "cell_type": "markdown",
   "metadata": {},
   "source": [
    "## Reading images using OpenCV"
   ]
  },
  {
   "cell_type": "code",
   "execution_count": null,
   "metadata": {},
   "outputs": [],
   "source": []
  },
  {
   "cell_type": "code",
   "execution_count": null,
   "metadata": {},
   "outputs": [],
   "source": [
    "# Reading image as grayscale\n",
    "cb_img = cv2.imread(\"checkerboard_18x18.png\", cv2.IMREAD_GRAYSCALE)\n",
    "\n",
    "print(cb_img)"
   ]
  },
  {
   "cell_type": "markdown",
   "metadata": {},
   "source": [
    "## Display image attributes"
   ]
  },
  {
   "cell_type": "code",
   "execution_count": null,
   "metadata": {},
   "outputs": [],
   "source": [
    "# print the size of image\n",
    "print(\"Image size (H, W) is:\", cb_img.shape)\n",
    "\n",
    "# print data-type of image\n",
    "print(\"Data type of image is:\", cb_img.dtype)"
   ]
  },
  {
   "cell_type": "markdown",
   "metadata": {},
   "source": [
    "## Display image using matplotlib"
   ]
  },
  {
   "cell_type": "code",
   "execution_count": null,
   "metadata": {},
   "outputs": [],
   "source": [
    "# Display image\n",
    "plt.imshow(cb_img)"
   ]
  },
  {
   "cell_type": "code",
   "execution_count": null,
   "metadata": {},
   "outputs": [],
   "source": [
    "# Set color map to grayscale for proper rendering\n",
    "plt.imshow(cb_img, cmap=\"gray\")"
   ]
  },
  {
   "cell_type": "code",
   "execution_count": null,
   "metadata": {},
   "outputs": [],
   "source": [
    "# read image as grayscale\n",
    "cb_img_fuzzy = cv2.imread(\"checkerboard_fuzzy_18x18.jpg\", cv2.IMREAD_GRAYSCALE)\n",
    "\n",
    "# print image\n",
    "print(cb_img_fuzzy)\n",
    "\n",
    "# display image\n",
    "plt.imshow(cb_img_fuzzy, cmap=\"gray\")"
   ]
  },
  {
   "cell_type": "markdown",
   "metadata": {},
   "source": [
    "## Working with color images"
   ]
  },
  {
   "cell_type": "code",
   "execution_count": null,
   "metadata": {},
   "outputs": [],
   "source": [
    "# Read and display Coca-Cola logo\n",
    "Image(\"coca-cola-logo.png\")"
   ]
  },
  {
   "cell_type": "markdown",
   "metadata": {},
   "source": [
    "## Read and display color image"
   ]
  },
  {
   "cell_type": "code",
   "execution_count": null,
   "metadata": {},
   "outputs": [],
   "source": [
    "# read in image\n",
    "coke_img = cv2.imread(\"coca-cola-logo.png\", cv2.IMREAD_COLOR)\n",
    "\n",
    "# print the size  of image\n",
    "print(\"Image size (H, W, C) is:\", coke_img.shape)\n",
    "\n",
    "# print data-type of image\n",
    "print(\"Data type of image is:\", coke_img.dtype)"
   ]
  },
  {
   "cell_type": "markdown",
   "metadata": {},
   "source": [
    "## Display the image"
   ]
  },
  {
   "cell_type": "code",
   "execution_count": null,
   "metadata": {},
   "outputs": [],
   "source": [
    "plt.imshow(coke_img)"
   ]
  },
  {
   "cell_type": "code",
   "execution_count": null,
   "metadata": {},
   "outputs": [],
   "source": [
    "coke_img_channel_reversed = coke_img[:, :, ::-1]\n",
    "plt.imshow(coke_img_channel_reversed)"
   ]
  },
  {
   "cell_type": "code",
   "execution_count": null,
   "metadata": {},
   "outputs": [],
   "source": [
    "# Split the image into the B,G,R components\n",
    "img_NZ_bgr = cv2.imread(\"New_Zealand_Lake.jpg\", cv2.IMREAD_COLOR)\n",
    "b, g, r = cv2.split(img_NZ_bgr)\n",
    "\n",
    "# Show the channels\n",
    "plt.figure(figsize=[20, 5])\n",
    "\n",
    "plt.subplot(141);plt.imshow(r, cmap=\"gray\");plt.title(\"Red Channel\")\n",
    "plt.subplot(142);plt.imshow(g, cmap=\"gray\");plt.title(\"Green Channel\")\n",
    "plt.subplot(143);plt.imshow(b, cmap=\"gray\");plt.title(\"Blue Channel\")\n",
    "\n",
    "# Merge the individual channels into a BGR image\n",
    "imgMerged = cv2.merge((b, g, r))\n",
    "# Show the merged output\n",
    "plt.subplot(144)\n",
    "plt.imshow(imgMerged[:, :, ::-1])\n",
    "plt.title(\"Merged Output\")"
   ]
  },
  {
   "cell_type": "markdown",
   "metadata": {},
   "source": [
    "## Changing from BGR to RGB"
   ]
  },
  {
   "cell_type": "code",
   "execution_count": null,
   "metadata": {},
   "outputs": [],
   "source": [
    "# OpenCV stores color channels in a differnet order than most other applications (BGR vs RGB).\n",
    "img_NZ_rgb = cv2.cvtColor(img_NZ_bgr, cv2.COLOR_BGR2RGB)\n",
    "plt.imshow(img_NZ_rgb)\n",
    "\n",
    "# print(img_NZ_rgb)"
   ]
  },
  {
   "cell_type": "markdown",
   "metadata": {},
   "source": [
    "## Changing HSV color space"
   ]
  },
  {
   "cell_type": "code",
   "execution_count": null,
   "metadata": {},
   "outputs": [],
   "source": [
    "img_hsv = cv2.cvtColor(img_NZ_bgr, cv2.COLOR_BGR2HSV)\n",
    "\n",
    "# Split the image into the B,G,R components\n",
    "h,s,v = cv2.split(img_hsv)\n",
    "\n",
    "# Show the channels\n",
    "plt.figure(figsize=[20,5])\n",
    "plt.subplot(141);plt.imshow(h, cmap=\"gray\");plt.title(\"H Channel\");\n",
    "plt.subplot(142);plt.imshow(s, cmap=\"gray\");plt.title(\"S Channel\");\n",
    "plt.subplot(143);plt.imshow(v, cmap=\"gray\");plt.title(\"V Channel\");\n",
    "plt.subplot(144);plt.imshow(img_NZ_rgb);   plt.title(\"Original\");"
   ]
  },
  {
   "cell_type": "markdown",
   "metadata": {},
   "source": [
    "## Modifying individual channel"
   ]
  },
  {
   "cell_type": "code",
   "execution_count": null,
   "metadata": {},
   "outputs": [],
   "source": [
    "h_new = h + 10\n",
    "img_NZ_merged = cv2.merge((h_new, s, v))\n",
    "img_NZ_rgb = cv2.cvtColor(img_NZ_merged, cv2.COLOR_HSV2RGB)\n",
    "\n",
    "# Show the channels\n",
    "plt.figure(figsize=[20,5])\n",
    "plt.subplot(141);plt.imshow(h, cmap=\"gray\");plt.title(\"H Channel\");\n",
    "plt.subplot(142);plt.imshow(s, cmap=\"gray\");plt.title(\"S Channel\");\n",
    "plt.subplot(143);plt.imshow(v, cmap=\"gray\");plt.title(\"V Channel\");\n",
    "plt.subplot(144);plt.imshow(img_NZ_rgb);   plt.title(\"Original\");"
   ]
  },
  {
   "cell_type": "markdown",
   "metadata": {},
   "source": [
    "## Saving image"
   ]
  },
  {
   "cell_type": "code",
   "execution_count": null,
   "metadata": {},
   "outputs": [],
   "source": [
    "# save the image\n",
    "cv2.imwrite(\"New_Zealand_Lake_SAVED.png\", img_NZ_bgr)\n",
    "\n",
    "Image(filename='New_Zealand_Lake_SAVED.png')"
   ]
  }
 ],
 "metadata": {
  "kernelspec": {
   "display_name": "venv",
   "language": "python",
   "name": "python3"
  },
  "language_info": {
   "codemirror_mode": {
    "name": "ipython",
    "version": 3
   },
   "file_extension": ".py",
   "mimetype": "text/x-python",
   "name": "python",
   "nbconvert_exporter": "python",
   "pygments_lexer": "ipython3",
   "version": "3.11.7"
  }
 },
 "nbformat": 4,
 "nbformat_minor": 2
}
